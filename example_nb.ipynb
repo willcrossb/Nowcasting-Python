{
 "cells": [
  {
   "cell_type": "code",
   "execution_count": null,
   "metadata": {},
   "outputs": [],
   "source": [
    "#-------------------------------------------------Libraries\n",
    "from Functions.load_data import load_data\n",
    "from Functions.load_spec import load_spec\n",
    "from Functions.update_Nowcast import update_nowcast\n",
    "import os\n",
    "import pickle\n",
    "\n",
    "\n",
    "#-------------------------------------------------User Inputs\n",
    "series = 'GDPC1'  # Nowcasting real GDP (GDPC1) <fred.stlouisfed.org/series/GDPC1>\n",
    "period = '2016q4' # Forecasting target quarter\n",
    "\n",
    "\n",
    "#-------------------------------------------------Load model specification and first vintage of data.\n",
    "Spec   = load_spec('Spec_US_example.xls')\n",
    "\n",
    "\n",
    "#-------------------------------------------------Load DFM estimation results structure `Res`\n",
    "with open('ResDFM.pickle', 'rb') as handle:\n",
    "    Res = pickle.load(handle)\n",
    "\n",
    "\n",
    "#-------------------------------------------------Update nowcast and decompose nowcast changes into news.\n",
    "# Nowcast update from week of December 7 to week of December 16, 2016\n",
    "vintage_old  = '2016-12-16'\n",
    "vintage_new  = '2016-12-23'\n",
    "datafile_old = os.path.join('data','US',vintage_old + '.xls')\n",
    "datafile_new = os.path.join('data','US',vintage_new + '.xls')\n",
    "\n",
    "# Load datasets for each vintage\n",
    "X_old,_,_    = load_data(datafile_old,Spec)\n",
    "X_new,Time,_ = load_data(datafile_new,Spec)\n",
    "\n",
    "Res = Res['Res']\n",
    "\n",
    "update_nowcast(X_old,X_new,Time,Spec,Res,series,period,vintage_old,vintage_new)"
   ]
  }
 ],
 "metadata": {
  "kernelspec": {
   "display_name": "Python 3.9.12 ('base')",
   "language": "python",
   "name": "python3"
  },
  "language_info": {
   "name": "python",
   "version": "3.9.12"
  },
  "orig_nbformat": 4,
  "vscode": {
   "interpreter": {
    "hash": "bb21f767a211495abec8bf77423259a843a4f607ac418d71c8e2c640fac1142a"
   }
  }
 },
 "nbformat": 4,
 "nbformat_minor": 2
}
