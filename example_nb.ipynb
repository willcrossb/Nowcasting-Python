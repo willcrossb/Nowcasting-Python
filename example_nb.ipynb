{
 "cells": [
  {
   "cell_type": "code",
   "execution_count": 1,
   "metadata": {},
   "outputs": [
    {
     "name": "stdout",
     "output_type": "stream",
     "text": [
      "\n",
      " Table 1: Model specification \n",
      "\n",
      "              SeriesID                   SeriesName                 Units  \\\n",
      "0               PAYEMS           Payroll Employment  Thousands of Persons   \n",
      "1               JTSJOL                 Job Openings             Thousands   \n",
      "2             CPIAUCSL         Consumer Price Index                 Index   \n",
      "3              DGORDER         Durable Goods Orders           $, Millions   \n",
      "4                RSAFS                 Retail Sales           $, Millions   \n",
      "5               UNRATE            Unemployment Rate                     %   \n",
      "6                HOUST               Housing Starts    Thousands of Units   \n",
      "7               INDPRO        Industrial Production                 Index   \n",
      "8              DSPIC96              Personal Income   Chained $, Billions   \n",
      "9              BOPTEXP                      Exports           $, Millions   \n",
      "10             BOPTIMP                      Imports           $, Millions   \n",
      "11             TTLCONS        Construction Spending           $, Millions   \n",
      "12                  IR           Import Price Index                 Index   \n",
      "13            CPILFESL    Core Consumer Price Index                 Index   \n",
      "14            PCEPILFE         Core PCE Price Index                 Index   \n",
      "15               PCEPI              PCE Price Index                 Index   \n",
      "16              PERMIT             Building Permits    Thousands of Units   \n",
      "17                 TCU    Capacity Utilization Rate                     %   \n",
      "18              BUSINV         Business Inventories           $, Millions   \n",
      "19                  IQ           Export Price Index                 Index   \n",
      "20   GACDISA066MSFRBNY       Empire State Mfg Index                 Index   \n",
      "21              PCEC96    Real Consumption Spending   Chained $, Billions   \n",
      "22  GACDFSA066MSFRBPHI   Philadelphia Fed Mfg Index                 Index   \n",
      "23               GDPC1  Real Gross Domestic Product   Chained $, Billions   \n",
      "24              ULCNFB              Unit Labor Cost                 Index   \n",
      "\n",
      "                UnitsTransformed  \n",
      "0            Change (Difference)  \n",
      "1            Change (Difference)  \n",
      "2                 Percent Change  \n",
      "3                 Percent Change  \n",
      "4                 Percent Change  \n",
      "5            Change (Difference)  \n",
      "6                 Percent Change  \n",
      "7                 Percent Change  \n",
      "8                 Percent Change  \n",
      "9                 Percent Change  \n",
      "10                Percent Change  \n",
      "11                Percent Change  \n",
      "12                Percent Change  \n",
      "13                Percent Change  \n",
      "14                Percent Change  \n",
      "15                Percent Change  \n",
      "16           Change (Difference)  \n",
      "17           Change (Difference)  \n",
      "18                Percent Change  \n",
      "19                Percent Change  \n",
      "20    Levels (No Transformation)  \n",
      "21                Percent Change  \n",
      "22    Levels (No Transformation)  \n",
      "23  Percent Change (Annual Rate)  \n",
      "24  Percent Change (Annual Rate)  \n",
      "\n",
      " Nowcast Update: 2016-12-23\n"
     ]
    },
    {
     "ename": "TypeError",
     "evalue": "only integer scalar arrays can be converted to a scalar index",
     "output_type": "error",
     "traceback": [
      "\u001b[0;31m---------------------------------------------------------------------------\u001b[0m",
      "\u001b[0;31mTypeError\u001b[0m                                 Traceback (most recent call last)",
      "\u001b[1;32m/Users/wcrossb/Library/Mobile Documents/com~apple~CloudDocs/Desktop/Desktop - Will’s MacBook Pro/python/projects/personal/Nowcasting-Python/example_nb.ipynb Cell 1\u001b[0m in \u001b[0;36m<cell line: 36>\u001b[0;34m()\u001b[0m\n\u001b[1;32m     <a href='vscode-notebook-cell:/Users/wcrossb/Library/Mobile%20Documents/com~apple~CloudDocs/Desktop/Desktop%20-%20Will%E2%80%99s%20MacBook%20Pro/python/projects/personal/Nowcasting-Python/example_nb.ipynb#W0sZmlsZQ%3D%3D?line=31'>32</a>\u001b[0m X_new,Time,_ \u001b[39m=\u001b[39m load_data(datafile_new,Spec)\n\u001b[1;32m     <a href='vscode-notebook-cell:/Users/wcrossb/Library/Mobile%20Documents/com~apple~CloudDocs/Desktop/Desktop%20-%20Will%E2%80%99s%20MacBook%20Pro/python/projects/personal/Nowcasting-Python/example_nb.ipynb#W0sZmlsZQ%3D%3D?line=33'>34</a>\u001b[0m Res \u001b[39m=\u001b[39m Res[\u001b[39m'\u001b[39m\u001b[39mRes\u001b[39m\u001b[39m'\u001b[39m]\n\u001b[0;32m---> <a href='vscode-notebook-cell:/Users/wcrossb/Library/Mobile%20Documents/com~apple~CloudDocs/Desktop/Desktop%20-%20Will%E2%80%99s%20MacBook%20Pro/python/projects/personal/Nowcasting-Python/example_nb.ipynb#W0sZmlsZQ%3D%3D?line=35'>36</a>\u001b[0m update_nowcast(X_old,X_new,Time,Spec,Res,series,period,vintage_old,vintage_new)\n",
      "File \u001b[0;32m~/Library/Mobile Documents/com~apple~CloudDocs/Desktop/Desktop - Will’s MacBook Pro/python/projects/personal/Nowcasting-Python/Functions/update_Nowcast.py:88\u001b[0m, in \u001b[0;36mupdate_nowcast\u001b[0;34m(X_old, X_new, Time, Spec, Res, series, period, vintage_old, vintage_new)\u001b[0m\n\u001b[1;32m     83\u001b[0m y_rev,y_new,_,actual,forecast,weight,_,_,_ \u001b[39m=\u001b[39m News_DFM(X_rev,X_new,Res,t_nowcast,i_series)\n\u001b[1;32m     85\u001b[0m \u001b[39mprint\u001b[39m(\u001b[39m\"\u001b[39m\u001b[39m\\n\u001b[39;00m\u001b[39m Nowcast Update: \u001b[39m\u001b[39m{}\u001b[39;00m\u001b[39m\"\u001b[39m\u001b[39m.\u001b[39mformat(dt\u001b[39m.\u001b[39mfromordinal(vintage_new\u001b[39m-\u001b[39m\u001b[39m366\u001b[39m)\u001b[39m.\u001b[39misoformat()\u001b[39m.\u001b[39msplit(\u001b[39m'\u001b[39m\u001b[39mT\u001b[39m\u001b[39m'\u001b[39m)[\u001b[39m0\u001b[39m]))\n\u001b[1;32m     86\u001b[0m \u001b[39mprint\u001b[39m(\u001b[39m\"\u001b[39m\u001b[39m\\n\u001b[39;00m\u001b[39m Nowcast for: \u001b[39m\u001b[39m{}\u001b[39;00m\u001b[39m (\u001b[39m\u001b[39m{}\u001b[39;00m\u001b[39m), \u001b[39m\u001b[39m{}\u001b[39;00m\u001b[39m\"\u001b[39m\u001b[39m.\u001b[39mformat(Spec\u001b[39m.\u001b[39mSeriesName[i_series][\u001b[39m0\u001b[39m],\n\u001b[1;32m     87\u001b[0m                                            Spec\u001b[39m.\u001b[39mUnitsTransformed[i_series][\u001b[39m0\u001b[39m],\n\u001b[0;32m---> 88\u001b[0m                                            pd\u001b[39m.\u001b[39mto_datetime(dt\u001b[39m.\u001b[39;49mfromordinal(Time[t_nowcast]\u001b[39m-\u001b[39;49m\u001b[39m366\u001b[39;49m))\u001b[39m.\u001b[39mto_period(\u001b[39m'\u001b[39m\u001b[39mQ\u001b[39m\u001b[39m'\u001b[39m)))\n\u001b[1;32m     90\u001b[0m \u001b[39m# Only display table output if a forecast is made\u001b[39;00m\n\u001b[1;32m     91\u001b[0m \u001b[39mif\u001b[39;00m forecast\u001b[39m.\u001b[39mshape[\u001b[39m0\u001b[39m] \u001b[39m==\u001b[39m \u001b[39m0\u001b[39m:\n",
      "\u001b[0;31mTypeError\u001b[0m: only integer scalar arrays can be converted to a scalar index"
     ]
    }
   ],
   "source": [
    "#-------------------------------------------------Libraries\n",
    "from Functions.load_data import load_data\n",
    "from Functions.load_spec import load_spec\n",
    "from Functions.update_Nowcast import update_nowcast\n",
    "import os\n",
    "import pickle\n",
    "\n",
    "\n",
    "#-------------------------------------------------User Inputs\n",
    "series = 'GDPC1'  # Nowcasting real GDP (GDPC1) <fred.stlouisfed.org/series/GDPC1>\n",
    "period = '2016q4' # Forecasting target quarter\n",
    "\n",
    "\n",
    "#-------------------------------------------------Load model specification and first vintage of data.\n",
    "Spec   = load_spec('Spec_US_example.xls')\n",
    "\n",
    "\n",
    "#-------------------------------------------------Load DFM estimation results structure `Res`\n",
    "with open('ResDFM.pickle', 'rb') as handle:\n",
    "    Res = pickle.load(handle)\n",
    "\n",
    "\n",
    "#-------------------------------------------------Update nowcast and decompose nowcast changes into news.\n",
    "# Nowcast update from week of December 7 to week of December 16, 2016\n",
    "vintage_old  = '2016-12-16'\n",
    "vintage_new  = '2016-12-23'\n",
    "datafile_old = os.path.join('data','US',vintage_old + '.xls')\n",
    "datafile_new = os.path.join('data','US',vintage_new + '.xls')\n",
    "\n",
    "# Load datasets for each vintage\n",
    "X_old,_,_    = load_data(datafile_old,Spec)\n",
    "X_new,Time,_ = load_data(datafile_new,Spec)\n",
    "\n",
    "Res = Res['Res']\n",
    "\n",
    "update_nowcast(X_old,X_new,Time,Spec,Res,series,period,vintage_old,vintage_new)"
   ]
  }
 ],
 "metadata": {
  "kernelspec": {
   "display_name": "Python 3.9.12 ('base')",
   "language": "python",
   "name": "python3"
  },
  "language_info": {
   "codemirror_mode": {
    "name": "ipython",
    "version": 3
   },
   "file_extension": ".py",
   "mimetype": "text/x-python",
   "name": "python",
   "nbconvert_exporter": "python",
   "pygments_lexer": "ipython3",
   "version": "3.9.12"
  },
  "orig_nbformat": 4,
  "vscode": {
   "interpreter": {
    "hash": "bb21f767a211495abec8bf77423259a843a4f607ac418d71c8e2c640fac1142a"
   }
  }
 },
 "nbformat": 4,
 "nbformat_minor": 2
}
